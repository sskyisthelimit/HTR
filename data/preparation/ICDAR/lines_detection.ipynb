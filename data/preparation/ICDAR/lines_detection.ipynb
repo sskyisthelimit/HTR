{
  "cells": [
    {
      "cell_type": "code",
      "source": [
        "from google.colab import drive\n",
        "drive.mount('/content/drive')"
      ],
      "metadata": {
        "id": "eQZf91qe_ZjV"
      },
      "execution_count": null,
      "outputs": []
    },
    {
      "cell_type": "code",
      "source": [
        "import os\n",
        "import shutil\n",
        "import numpy\n",
        "from PIL import Image, ImageDraw\n",
        "import matplotlib.pyplot as plt\n",
        "import zipfile\n",
        "\n",
        "with zipfile.ZipFile('/content/drive/MyDrive/Datasets/ICDAR 2015/batch1/batch1.zip', 'r') as batch1:\n",
        "  batch1.extractall('/content')\n",
        "\n",
        "with zipfile.ZipFile('/content/drive/MyDrive/Datasets/ICDAR 2015/batch1/xml.zip', 'r') as xml:\n",
        "  xml.extractall('/content')"
      ],
      "metadata": {
        "id": "d-f-pZSF_aBr"
      },
      "execution_count": null,
      "outputs": []
    },
    {
      "cell_type": "code",
      "source": [
        "from lxml import etree\n",
        "\n",
        "def extract_bbox_coords(points):\n",
        "    xs = []\n",
        "    ys = []\n",
        "\n",
        "    if not points:\n",
        "        print(\"No points found for bounding box.\")\n",
        "        return None\n",
        "\n",
        "    for point in points:\n",
        "        x = point.get('x')\n",
        "        y = point.get('y')\n",
        "\n",
        "        if x is None or y is None:\n",
        "\n",
        "            print(f\"Point missing x or y attribute: {point.attrib}\")\n",
        "            return None\n",
        "\n",
        "        xs.append(float(x))\n",
        "        ys.append(float(y))\n",
        "\n",
        "    return [min(xs), min(ys), max(xs), max(ys)]\n",
        "\n",
        "def bbox_to_yolo(bbox):\n",
        "    bbox_width = bbox[2] - bbox[0]\n",
        "    bbox_height = bbox[3] - bbox[1]\n",
        "    return [\n",
        "        bbox[0] + bbox_width / 2,\n",
        "        bbox[1] + bbox_height / 2,\n",
        "        bbox_width,\n",
        "        bbox_height\n",
        "    ]\n",
        "\n",
        "def extract_line_bboxes(xml_filepath):\n",
        "    ns = {'ns': 'http://schema.primaresearch.org/PAGE/gts/pagecontent/2010-03-19'}\n",
        "\n",
        "    with open(xml_filepath, 'rb') as file:\n",
        "        tree = etree.parse(file)\n",
        "\n",
        "    line_bboxes = []\n",
        "\n",
        "    for textline in tree.findall('.//ns:TextLine', namespaces=ns):\n",
        "        coords = textline.find('ns:Coords', namespaces=ns)\n",
        "        min_max_coords = extract_bbox_coords(coords.findall('ns:Point', namespaces=ns))\n",
        "        line_bboxes.append(bbox_to_yolo(min_max_coords))\n",
        "\n",
        "    return line_bboxes\n"
      ],
      "metadata": {
        "id": "byu3YjjR_4jm"
      },
      "execution_count": null,
      "outputs": []
    },
    {
      "cell_type": "code",
      "source": [
        "def draw_bboxes(image_path, line_bboxes, output_path=\"/content/annotated_image.jpg\"):\n",
        "    image = Image.open(image_path)\n",
        "    draw = ImageDraw.Draw(image)\n",
        "\n",
        "    for bbox in line_bboxes:\n",
        "      min_max_box = [\n",
        "          bbox[0] - bbox[2] / 2,\n",
        "          bbox[1] - bbox[3] / 2,\n",
        "          bbox[0] + bbox[2],\n",
        "          bbox[1] + bbox[3]\n",
        "      ]\n",
        "      draw.rectangle(min_max_box, outline=\"green\", width=2)\n",
        "\n",
        "    image.save(output_path)\n",
        "    print(f\"Annotated image saved at {output_path}\")"
      ],
      "metadata": {
        "id": "j391Zvz6GE1l"
      },
      "execution_count": null,
      "outputs": []
    },
    {
      "cell_type": "code",
      "source": [
        "xml_folder = '/content/PAGE/'\n",
        "img_folder = '/content/Pages/'\n",
        "output_folder = '/content/output/'\n",
        "os.makedirs(output_folder, exist_ok=True)\n",
        "\n",
        "xml_files = [f for f in os.listdir(xml_folder)]\n",
        "for xml_file in xml_files[:10]:\n",
        "  xml_filepath = os.path.join(xml_folder, xml_file)\n",
        "  img_file = os.path.basename(xml_file)[:-4] + '.jpg'\n",
        "  img_filepath = os.path.join(img_folder, img_file)\n",
        "  output_path = os.path.join(output_folder, img_file)\n",
        "\n",
        "  line_bboxes = extract_line_bboxes(xml_filepath)\n",
        "  draw_bboxes(img_filepath, line_bboxes, output_path)\n"
      ],
      "metadata": {
        "id": "T-zuy-3UIwsN"
      },
      "execution_count": null,
      "outputs": []
    },
    {
      "cell_type": "code",
      "source": [
        "shutil.make_archive('/content/annotated', 'zip', '/content/output/')"
      ],
      "metadata": {
        "id": "PUhMHjiWKllh"
      },
      "execution_count": null,
      "outputs": []
    },
    {
      "cell_type": "code",
      "source": [
        "print(len(xml_files))"
      ],
      "metadata": {
        "id": "ymTO5cYKMI_t"
      },
      "execution_count": null,
      "outputs": []
    },
    {
      "cell_type": "code",
      "source": [
        "dataset_dir = '/content/dataset/'\n",
        "os.makedirs(dataset_dir, exist_ok=True)\n",
        "\n",
        "val_xml = xml_files[:46]\n",
        "train_xml = xml_files[46:]\n",
        "\n",
        "with open('/content/dataset/train_xml.txt', 'w') as f:\n",
        "  for filename in train_xml:\n",
        "    f.write(filename + '\\n')\n",
        "\n",
        "with open('/content/dataset/val_xml.txt', 'w') as f:\n",
        "  for filename in val_xml:\n",
        "    f.write(filename + '\\n')"
      ],
      "metadata": {
        "id": "qXyqsY4mO8Kt"
      },
      "execution_count": null,
      "outputs": []
    },
    {
      "cell_type": "code",
      "source": [
        "def save_yolo_annotation(width, height, bboxes, filepath):\n",
        "  with open(filepath, 'w') as f:\n",
        "    for bbox in bboxes:\n",
        "      f.write(f\"0 {bbox[0]/width} {bbox[1]/height} {bbox[2]/width} {bbox[3]/height}\\n\")\n",
        "\n",
        "def prepare_dataset(xml_files, output_folder):\n",
        "  for xml_file in xml_files:\n",
        "    xml_filepath = os.path.join(xml_folder, xml_file)\n",
        "    img_file = os.path.basename(xml_file)[:-4] + '.jpg'\n",
        "    img_filepath = os.path.join(img_folder, img_file)\n",
        "    output_path = os.path.join(output_folder, img_file)\n",
        "\n",
        "    line_bboxes = extract_line_bboxes(xml_filepath)\n",
        "    img_width, img_height = Image.open(img_filepath).size\n",
        "\n",
        "    txt_filepath = os.path.join(output_folder, os.path.basename(xml_file)[:-4] + \".txt\")\n",
        "\n",
        "    save_yolo_annotation(img_width, img_height, line_bboxes, txt_filepath)\n",
        "    shutil.copy(img_filepath, output_path)"
      ],
      "metadata": {
        "id": "hvQCHT5jP9Wr"
      },
      "execution_count": null,
      "outputs": []
    },
    {
      "cell_type": "code",
      "source": [
        "val_dataset_dir = '/content/dataset/val'\n",
        "os.makedirs(val_dataset_dir, exist_ok=True)\n",
        "\n",
        "train_dataset_dir = '/content/dataset/train'\n",
        "os.makedirs(train_dataset_dir, exist_ok=True)\n",
        "\n",
        "prepare_dataset(val_xml, val_dataset_dir)\n",
        "prepare_dataset(train_xml, train_dataset_dir)"
      ],
      "metadata": {
        "id": "oPEwwW7OTZHF"
      },
      "execution_count": null,
      "outputs": []
    },
    {
      "cell_type": "code",
      "source": [
        "shutil.make_archive('/content/dataset', 'zip', '/content/dataset')"
      ],
      "metadata": {
        "id": "HLnEwv7vTtE5"
      },
      "execution_count": null,
      "outputs": []
    },
    {
      "cell_type": "code",
      "source": [],
      "metadata": {
        "id": "vYOC9tICUSD-"
      },
      "execution_count": null,
      "outputs": []
    }
  ],
  "metadata": {
    "colab": {
      "name": "Welcome To Colab",
      "provenance": []
    },
    "kernelspec": {
      "display_name": "Python 3",
      "name": "python3"
    }
  },
  "nbformat": 4,
  "nbformat_minor": 0
}