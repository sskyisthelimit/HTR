{
  "nbformat": 4,
  "nbformat_minor": 0,
  "metadata": {
    "colab": {
      "provenance": []
    },
    "kernelspec": {
      "name": "python3",
      "display_name": "Python 3"
    },
    "language_info": {
      "name": "python"
    }
  },
  "cells": [
    {
      "cell_type": "code",
      "execution_count": 1,
      "metadata": {
        "id": "1j-nLiFhjUO7"
      },
      "outputs": [],
      "source": [
        "import os\n",
        "import json\n",
        "import shutil\n",
        "import zipfile\n",
        "\n",
        "SOURCE2_DIR = '/content/SOURCE2/'\n",
        "SOURCE3_DIR = '/content/SOURCE3/'\n",
        "\n",
        "os.makedirs(SOURCE2_DIR, exist_ok=True)\n",
        "os.makedirs(SOURCE3_DIR, exist_ok=True)\n",
        "\n",
        "with zipfile.ZipFile('/content/drive/MyDrive/Datasets/SOURCE2/detection.zip', 'r') as zf:\n",
        "  zf.extractall(SOURCE2_DIR)\n",
        "\n",
        "with zipfile.ZipFile('/content/drive/MyDrive/Datasets/SOURCE3/detection.zip', 'r') as zf:\n",
        "  zf.extractall(SOURCE3_DIR)"
      ]
    },
    {
      "cell_type": "code",
      "source": [
        "import numpy as np\n",
        "\n",
        "source3_train_pages = [os.path.join(SOURCE3_DIR, 'train', f) for f in os.listdir(os.path.join(SOURCE3_DIR, 'train'))]\n",
        "source3_test_pages = [os.path.join(SOURCE3_DIR, 'test', f) for f in os.listdir(os.path.join(SOURCE3_DIR, 'test'))]\n",
        "source3_validation_pages = [os.path.join(SOURCE3_DIR, 'validation', f) for f in os.listdir(os.path.join(SOURCE3_DIR, 'validation'))]\n",
        "\n",
        "source3_test_annotations = os.path.join(SOURCE3_DIR, 'test_annotations.json')\n",
        "source3_train_annotations = os.path.join(SOURCE3_DIR, 'train_annotations.json')\n",
        "source3_validation_annotations = os.path.join(SOURCE3_DIR, 'validation_annotations.json')\n",
        "\n",
        "source2_train_pages = [os.path.join(SOURCE2_DIR, 'train', f) for f in os.listdir(os.path.join(SOURCE2_DIR, 'train'))]\n",
        "source2_test_pages = [os.path.join(SOURCE2_DIR, 'test', f) for f in os.listdir(os.path.join(SOURCE2_DIR, 'test'))]\n",
        "source2_validation_pages = [os.path.join(SOURCE2_DIR, 'validation', f) for f in os.listdir(os.path.join(SOURCE2_DIR, 'validation'))]\n",
        "\n",
        "source2_test_annotations = os.path.join(SOURCE2_DIR, 'test_annotations.json')\n",
        "source2_train_annotations = os.path.join(SOURCE2_DIR, 'train_annotations.json')\n",
        "source2_validation_annotations = os.path.join(SOURCE2_DIR, 'validation_annotations.json')\n",
        "\n",
        "train_pages = source3_train_pages + source2_train_pages\n",
        "validation_pages = source3_validation_pages + source2_validation_pages\n",
        "test_pages = source3_test_pages + source2_test_pages"
      ],
      "metadata": {
        "id": "0NinFHmUk569"
      },
      "execution_count": 2,
      "outputs": []
    },
    {
      "cell_type": "code",
      "source": [
        "def get_source2_annotation(img_id, json_path):\n",
        "    with open(json_path, 'r') as f:\n",
        "        annotations = json.loads(f.read())\n",
        "\n",
        "    words = annotations[img_id][\"words\"]\n",
        "\n",
        "    bboxes = [w['bbox'] for w in words]\n",
        "    labels = [0 for i in range(len(words))]\n",
        "\n",
        "    return bboxes, labels\n",
        "\n",
        "def get_source3_annotation(img_id, json_path):\n",
        "    with open(json_path, 'r') as f:\n",
        "        annotations = json.loads(f.read())\n",
        "\n",
        "    regions_contents = annotations[img_id][\"regions_contents\"]\n",
        "\n",
        "    bboxes = []\n",
        "    for rc in regions_contents:\n",
        "        bboxes += rc['bboxes']\n",
        "\n",
        "    labels = [0 for i in range(len(bboxes))]\n",
        "\n",
        "    return bboxes, labels"
      ],
      "metadata": {
        "id": "IiRDcwXrmIcT"
      },
      "execution_count": 3,
      "outputs": []
    },
    {
      "cell_type": "code",
      "source": [
        "def parse_annotations(pages, source2_annotations, source3_annotations, annotations):\n",
        "  for page_path in pages:\n",
        "      page_id = os.path.basename(page_path[:-4])\n",
        "      if SOURCE2_DIR in page_path:\n",
        "          bboxes, labels = get_source2_annotation(page_id, source2_annotations)\n",
        "          if page_id not in [*annotations]:\n",
        "              annotations[page_id] = {\"bboxes\": bboxes, \"labels\": labels}\n",
        "          else:\n",
        "              raise ValueError(f\"Page with id: {page_id} is already in annotations\")\n",
        "\n",
        "      elif SOURCE3_DIR in page_path:\n",
        "          bboxes, labels = get_source3_annotation(page_id, source3_annotations)\n",
        "          if page_id not in [*annotations]:\n",
        "              annotations[page_id] = {\"bboxes\": bboxes, \"labels\": labels}\n",
        "          else:\n",
        "              raise ValueError(f\"Page with id: {page_id} is already in annotations\")"
      ],
      "metadata": {
        "id": "SRNlfXtumdeC"
      },
      "execution_count": 5,
      "outputs": []
    },
    {
      "cell_type": "code",
      "source": [
        "train_annotations = {}\n",
        "validation_annotations = {}\n",
        "test_annotations = {}\n",
        "\n",
        "parse_annotations(train_pages, source2_train_annotations,\n",
        "                  source3_train_annotations, train_annotations)\n",
        "\n",
        "parse_annotations(validation_pages, source2_validation_annotations,\n",
        "                  source3_validation_annotations, validation_annotations)\n",
        "\n",
        "parse_annotations(test_pages, source2_test_annotations,\n",
        "                  source3_test_annotations, test_annotations)"
      ],
      "metadata": {
        "id": "UwPdHeDcmT_O"
      },
      "execution_count": 6,
      "outputs": []
    },
    {
      "cell_type": "code",
      "source": [
        "from PIL import Image\n",
        "\n",
        "def construct_data_for_yolo(pages, out_dir, annotations):\n",
        "  for page_path in pages:\n",
        "        page_id = os.path.basename(page_path[:-4])\n",
        "        img_width, img_height = Image.open(page_path).size\n",
        "        shutil.copy(page_path, os.path.join(out_dir, os.path.basename(page_path)))\n",
        "\n",
        "        an_dct = annotations[page_id]\n",
        "        txt_name = os.path.join(out_dir, page_id + '.txt')\n",
        "        with open(txt_name, 'w') as an_file:\n",
        "          for idx in range(len(an_dct['bboxes'])):\n",
        "            height = an_dct['bboxes'][idx][3] - an_dct['bboxes'][idx][1]\n",
        "            width = an_dct['bboxes'][idx][2] - an_dct['bboxes'][idx][0]\n",
        "            x_center = (an_dct['bboxes'][idx][0] + width / 2) / img_width\n",
        "            y_center = (an_dct['bboxes'][idx][1] + height / 2) / img_height\n",
        "            new_an = [an_dct['labels'][idx], x_center, y_center, width / img_width, height / img_height]\n",
        "            an_file.write(\" \".join([str(e) for e in new_an]) + \"\\n\")\n"
      ],
      "metadata": {
        "id": "XEd-qVbZngaF"
      },
      "execution_count": 7,
      "outputs": []
    },
    {
      "cell_type": "code",
      "source": [
        "out_dir = '/content/detection/train'\n",
        "os.makedirs(out_dir, exist_ok=True)\n",
        "construct_data_for_yolo(train_pages, out_dir, train_annotations)\n",
        "\n",
        "out_dir = '/content/detection/validation'\n",
        "os.makedirs(out_dir, exist_ok=True)\n",
        "construct_data_for_yolo(validation_pages, out_dir, validation_annotations)\n",
        "\n",
        "out_dir = '/content/detection/test'\n",
        "os.makedirs(out_dir, exist_ok=True)\n",
        "construct_data_for_yolo(test_pages, out_dir, test_annotations)"
      ],
      "metadata": {
        "id": "q1D5S1wKttkx"
      },
      "execution_count": 8,
      "outputs": []
    },
    {
      "cell_type": "code",
      "source": [
        "shutil.make_archive('/content/detection', 'zip', '/content/detection')"
      ],
      "metadata": {
        "colab": {
          "base_uri": "https://localhost:8080/",
          "height": 35
        },
        "id": "8cZIaKizt7qq",
        "outputId": "3029fef8-66fd-4417-e57c-4deb4ebe6fb1"
      },
      "execution_count": 9,
      "outputs": [
        {
          "output_type": "execute_result",
          "data": {
            "text/plain": [
              "'/content/detection.zip'"
            ],
            "application/vnd.google.colaboratory.intrinsic+json": {
              "type": "string"
            }
          },
          "metadata": {},
          "execution_count": 9
        }
      ]
    },
    {
      "cell_type": "code",
      "source": [],
      "metadata": {
        "id": "CnXsIq0yvFDb"
      },
      "execution_count": null,
      "outputs": []
    }
  ]
}