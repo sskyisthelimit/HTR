{
  "nbformat": 4,
  "nbformat_minor": 0,
  "metadata": {
    "colab": {
      "provenance": []
    },
    "kernelspec": {
      "name": "python3",
      "display_name": "Python 3"
    },
    "language_info": {
      "name": "python"
    }
  },
  "cells": [
    {
      "cell_type": "code",
      "execution_count": null,
      "metadata": {
        "id": "mWnBg8J4OpZ_"
      },
      "outputs": [],
      "source": [
        "!pip install ultralytics"
      ]
    },
    {
      "cell_type": "code",
      "source": [
        "import zipfile\n",
        "import os\n",
        "\n",
        "data_dir = '/content/SOURCE5'\n",
        "os.makedirs(data_dir, exist_ok=True)\n",
        "\n",
        "with zipfile.ZipFile('/content/drive/MyDrive/Datasets/SOURCE5/train/batch1.zip', 'r') as f:\n",
        "  f.extractall(data_dir)"
      ],
      "metadata": {
        "id": "DpH7hsa9QtG5"
      },
      "execution_count": 2,
      "outputs": []
    },
    {
      "cell_type": "code",
      "source": [
        "model_dir = '/content/model'\n",
        "os.makedirs(model_dir, exist_ok=True)\n",
        "\n",
        "with zipfile.ZipFile('/content/drive/MyDrive/Models/words-yolov5/words-yolo.zip', 'r') as f:\n",
        "  f.extractall(model_dir)"
      ],
      "metadata": {
        "id": "9CEPQ8qnRNDO"
      },
      "execution_count": 3,
      "outputs": []
    },
    {
      "cell_type": "code",
      "source": [
        "from ultralytics import YOLO\n",
        "import cv2\n",
        "\n",
        "\n",
        "model = YOLO('/content/model/best.pt')\n",
        "model.overrides['data'] = '/content/model/yolo_config.yaml'\n",
        "\n",
        "image_dir = '/content/SOURCE5/Pages'\n",
        "output_dir = '/content/annotated'\n",
        "\n",
        "os.makedirs(output_dir, exist_ok=True)\n",
        "\n",
        "image_files = [f for f in os.listdir(image_dir) if f.endswith('.jpg')]\n",
        "\n",
        "for img_file in image_files:\n",
        "    img_path = os.path.join(image_dir, img_file)\n",
        "\n",
        "    img = cv2.imread(img_path)\n",
        "\n",
        "    results = model.predict(source=img, imgsz=946, device='cpu', conf=0.25)\n",
        "    results = results[0]\n",
        "\n",
        "    annotations = []\n",
        "\n",
        "    img_id = os.path.splitext(img_file)[0]\n",
        "\n",
        "    for box in results.boxes:\n",
        "        x1, y1, x2, y2 = map(int, box.xyxy[0])\n",
        "        class_id = int(box.cls[0])\n",
        "\n",
        "        img_width, img_height = img.shape[1], img.shape[0]\n",
        "        x_center = (x1 + x2) / 2 / img_width\n",
        "        y_center = (y1 + y2) / 2 / img_height\n",
        "        width = (x2 - x1) / img_width\n",
        "        height = (y2 - y1) / img_height\n",
        "\n",
        "        annotations.append(f\"{class_id} {x_center} {y_center} {width} {height}\\n\")\n",
        "\n",
        "    annotation_file_path = os.path.join(output_dir, f\"{img_id}.txt\")\n",
        "    with open(annotation_file_path, 'w') as f:\n",
        "        f.writelines(annotations)\n",
        "\n",
        "print(f\"Annotations have been saved to {output_dir}.\")\n"
      ],
      "metadata": {
        "id": "yrjY1PJUO1Rp"
      },
      "execution_count": null,
      "outputs": []
    },
    {
      "cell_type": "code",
      "source": [
        "import shutil\n",
        "shutil.make_archive('/content/batch1_annotations', 'zip', '/content/annotated')"
      ],
      "metadata": {
        "colab": {
          "base_uri": "https://localhost:8080/",
          "height": 35
        },
        "id": "LNirILxPSGP7",
        "outputId": "cdcb1245-4391-45dc-e7ff-fd32e5808b76"
      },
      "execution_count": 6,
      "outputs": [
        {
          "output_type": "execute_result",
          "data": {
            "text/plain": [
              "'/content/batch1_annotations.zip'"
            ],
            "application/vnd.google.colaboratory.intrinsic+json": {
              "type": "string"
            }
          },
          "metadata": {},
          "execution_count": 6
        }
      ]
    }
  ]
}